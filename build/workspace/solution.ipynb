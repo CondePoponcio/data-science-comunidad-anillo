{
 "cells": [
  {
   "cell_type": "code",
   "execution_count": 1,
   "id": "82ea0484",
   "metadata": {},
   "outputs": [
    {
     "name": "stdout",
     "output_type": "stream",
     "text": [
      "Collecting shapely\n",
      "  Downloading shapely-2.0.0-cp39-cp39-manylinux_2_17_x86_64.manylinux2014_x86_64.whl (2.3 MB)\n",
      "\u001b[2K     \u001b[90m━━━━━━━━━━━━━━━━━━━━━━━━━━━━━━━━━━━━━━━━\u001b[0m \u001b[32m2.3/2.3 MB\u001b[0m \u001b[31m11.5 MB/s\u001b[0m eta \u001b[36m0:00:00\u001b[0ma \u001b[36m0:00:01\u001b[0m\n",
      "\u001b[?25hCollecting geopandas\n",
      "  Downloading geopandas-0.12.2-py3-none-any.whl (1.1 MB)\n",
      "\u001b[2K     \u001b[90m━━━━━━━━━━━━━━━━━━━━━━━━━━━━━━━━━━━━━━━━\u001b[0m \u001b[32m1.1/1.1 MB\u001b[0m \u001b[31m11.6 MB/s\u001b[0m eta \u001b[36m0:00:00\u001b[0ma \u001b[36m0:00:01\u001b[0m\n",
      "\u001b[?25hRequirement already satisfied: numpy>=1.14 in /usr/local/lib/python3.9/dist-packages (from shapely) (1.23.5)\n",
      "Collecting pyproj>=2.6.1.post1\n",
      "  Downloading pyproj-3.4.1-cp39-cp39-manylinux_2_17_x86_64.manylinux2014_x86_64.whl (7.7 MB)\n",
      "\u001b[2K     \u001b[90m━━━━━━━━━━━━━━━━━━━━━━━━━━━━━━━━━━━━━━━━\u001b[0m \u001b[32m7.7/7.7 MB\u001b[0m \u001b[31m11.4 MB/s\u001b[0m eta \u001b[36m0:00:00\u001b[0m00:01\u001b[0m00:01\u001b[0m\n",
      "\u001b[?25hRequirement already satisfied: pandas>=1.0.0 in /usr/local/lib/python3.9/dist-packages (from geopandas) (1.5.2)\n",
      "Collecting fiona>=1.8\n",
      "  Downloading Fiona-1.8.22-cp39-cp39-manylinux_2_17_x86_64.manylinux2014_x86_64.whl (16.6 MB)\n",
      "\u001b[2K     \u001b[90m━━━━━━━━━━━━━━━━━━━━━━━━━━━━━━━━━━━━━━━━\u001b[0m \u001b[32m16.6/16.6 MB\u001b[0m \u001b[31m4.0 MB/s\u001b[0m eta \u001b[36m0:00:00\u001b[0m00:01\u001b[0m00:01\u001b[0m\n",
      "\u001b[?25hRequirement already satisfied: packaging in /usr/local/lib/python3.9/dist-packages (from geopandas) (22.0)\n",
      "Requirement already satisfied: setuptools in /usr/lib/python3/dist-packages (from fiona>=1.8->geopandas) (52.0.0)\n",
      "Collecting click>=4.0\n",
      "  Downloading click-8.1.3-py3-none-any.whl (96 kB)\n",
      "\u001b[2K     \u001b[90m━━━━━━━━━━━━━━━━━━━━━━━━━━━━━━━━━━━━━━━━\u001b[0m \u001b[32m96.6/96.6 kB\u001b[0m \u001b[31m9.4 MB/s\u001b[0m eta \u001b[36m0:00:00\u001b[0m\n",
      "\u001b[?25hRequirement already satisfied: six>=1.7 in /usr/local/lib/python3.9/dist-packages (from fiona>=1.8->geopandas) (1.16.0)\n",
      "Collecting click-plugins>=1.0\n",
      "  Downloading click_plugins-1.1.1-py2.py3-none-any.whl (7.5 kB)\n",
      "Requirement already satisfied: attrs>=17 in /usr/local/lib/python3.9/dist-packages (from fiona>=1.8->geopandas) (22.1.0)\n",
      "Requirement already satisfied: certifi in /usr/local/lib/python3.9/dist-packages (from fiona>=1.8->geopandas) (2022.12.7)\n",
      "Collecting munch\n",
      "  Downloading munch-2.5.0-py2.py3-none-any.whl (10 kB)\n",
      "Collecting cligj>=0.5\n",
      "  Downloading cligj-0.7.2-py3-none-any.whl (7.1 kB)\n",
      "Requirement already satisfied: pytz>=2020.1 in /usr/local/lib/python3.9/dist-packages (from pandas>=1.0.0->geopandas) (2022.6)\n",
      "Requirement already satisfied: python-dateutil>=2.8.1 in /usr/local/lib/python3.9/dist-packages (from pandas>=1.0.0->geopandas) (2.8.2)\n",
      "Installing collected packages: shapely, pyproj, munch, click, cligj, click-plugins, fiona, geopandas\n",
      "Successfully installed click-8.1.3 click-plugins-1.1.1 cligj-0.7.2 fiona-1.8.22 geopandas-0.12.2 munch-2.5.0 pyproj-3.4.1 shapely-2.0.0\n",
      "\u001b[33mWARNING: Running pip as the 'root' user can result in broken permissions and conflicting behaviour with the system package manager. It is recommended to use a virtual environment instead: https://pip.pypa.io/warnings/venv\u001b[0m\u001b[33m\n",
      "\u001b[0mHello World\n"
     ]
    }
   ],
   "source": [
    "!pip install shapely geopandas\n",
    "print(\"Hello World\")"
   ]
  },
  {
   "cell_type": "code",
   "execution_count": 2,
   "id": "01ba55ac",
   "metadata": {},
   "outputs": [
    {
     "name": "stderr",
     "output_type": "stream",
     "text": [
      "Using Spark's default log4j profile: org/apache/spark/log4j-defaults.properties\n",
      "Setting default log level to \"WARN\".\n",
      "To adjust logging level use sc.setLogLevel(newLevel). For SparkR, use setLogLevel(newLevel).\n",
      "22/12/14 22:36:59 WARN NativeCodeLoader: Unable to load native-hadoop library for your platform... using builtin-java classes where applicable\n",
      "                                                                                \r"
     ]
    },
    {
     "name": "stdout",
     "output_type": "stream",
     "text": [
      "Hola\n"
     ]
    }
   ],
   "source": [
    "from pyspark.sql import SparkSession\n",
    "from pyspark.sql import functions as F\n",
    "from shapely import wkb\n",
    "from geopandas import GeoDataFrame\n",
    "\n",
    "spark = SparkSession.builder.appName(\"pyspark-notebook\").master(\"spark://spark-master:7077\").config(\"spark.executor.memory\", \"512m\").getOrCreate()\n",
    "\n",
    "#dataframe = spark.read.format(\"jdbc\").options(url=\"jdbc:postgresql://db:5432/datascience?user=postgres&password=mantequilla\", dbtable=\"rutas\",driver=\"org.postgresql.Driver\").load()\n",
    "buses = spark.read.option(\"header\",True).csv(\"./data/buses.csv\")\n",
    "print(\"Hola\")"
   ]
  },
  {
   "cell_type": "code",
   "execution_count": 3,
   "id": "2746a35f-3ef3-4602-a788-33076da5bda6",
   "metadata": {},
   "outputs": [],
   "source": [
    "paraderos2 = spark.read.option(\"header\",True).csv(\"./data/paraderos2.csv\")\n",
    "paraderosrutas = spark.read.option(\"header\",True).csv(\"./data/paraderosrutas.csv\")"
   ]
  },
  {
   "cell_type": "code",
   "execution_count": 4,
   "id": "3423129a-8d21-4f26-bdb4-46dc753f6676",
   "metadata": {},
   "outputs": [
    {
     "name": "stdout",
     "output_type": "stream",
     "text": [
      "['stop_id', 'stop_code', 'stop_name', 'stop_lat', 'stop_lon', 'stop_url', 'wheelchair_boarding', 'geom']\n",
      "['simt', 'bus', 'fechahora', 'lat', 'lng', 'velocidad', 'pasajeros', 'vendor', 'id', 'geom_bus', 'servicio', 'nombre_par', 'parder_geom']\n",
      "['simt', 'bus', 'fechahora', 'lat', 'lng', 'velocidad', 'pasajeros', 'vendor', 'id', 'geom_bus', 'servicio', 'nombre_par', 'parder_geom', 'parader', 'stop_name', 'parder_lat', 'parder_lon', 'geom_bus']\n"
     ]
    },
    {
     "name": "stderr",
     "output_type": "stream",
     "text": [
      "                                                                                \r"
     ]
    },
    {
     "name": "stdout",
     "output_type": "stream",
     "text": [
      "+-----+-------+--------------------+-----------------+-----------------+---------+---------+------+--------+--------------------+--------+--------------------+--------------------+-------+--------------------+-----------------+-----------------+--------------------+\n",
      "| simt|    bus|           fechahora|              lat|              lng|velocidad|pasajeros|vendor|      id|            geom_bus|servicio|          nombre_par|         parder_geom|parader|           stop_name|       parder_lat|       parder_lon|            geom_bus|\n",
      "+-----+-------+--------------------+-----------------+-----------------+---------+---------+------+--------+--------------------+--------+--------------------+--------------------+-------+--------------------+-----------------+-----------------+--------------------+\n",
      "|PE329|BJFW-53|2018-06-13 00:00:...|-33.5598373413086|-70.5652313232422|        0|        0|  T352|10006092|0101000020E610000...|    E02I|Parada 3 / (M) Tr...|0101000020E610000...|  PE329|PE329-Parada 3 / ...|-33.5472232837671|-70.5881270000095|0101000020E610000...|\n",
      "|PE845|BJFW-53|2018-06-13 00:00:...|-33.5598373413086|-70.5652313232422|        0|        0|  T352|10006092|0101000020E610000...|    E02I|Parada 3 / Parade...|0101000020E610000...|  PE845|PE845-Parada 3 / ...|-33.5499852953376|-70.5873490004504|0101000020E610000...|\n",
      "|PE846|BJFW-53|2018-06-13 00:00:...|-33.5598373413086|-70.5652313232422|        0|        0|  T352|10006092|0101000020E610000...|    E02I|Parada 3 / (M) Sa...|0101000020E610000...|  PE846|PE846-Parada 3 / ...|-33.5531545927923|-70.5867849505545|0101000020E610000...|\n",
      "|PE328|BJFW-53|2018-06-13 00:00:...|-33.5598373413086|-70.5652313232422|        0|        0|  T352|10006092|0101000020E610000...|    E02I|Avenida Trinidad ...|0101000020E610000...|  PE328|PE328-Avenida Tri...|-33.5471362305334|-70.5918259996159|0101000020E610000...|\n",
      "|PE327|BJFW-53|2018-06-13 00:00:...|-33.5598373413086|-70.5652313232422|        0|        0|  T352|10006092|0101000020E610000...|    E02I|Avenida Trinidad ...|0101000020E610000...|  PE327|PE327-Avenida Tri...|-33.5470942036713|-70.5936750003115|0101000020E610000...|\n",
      "+-----+-------+--------------------+-----------------+-----------------+---------+---------+------+--------+--------------------+--------+--------------------+--------------------+-------+--------------------+-----------------+-----------------+--------------------+\n",
      "only showing top 5 rows\n",
      "\n",
      "root\n",
      " |-- simt: string (nullable = true)\n",
      " |-- bus: string (nullable = true)\n",
      " |-- fechahora: string (nullable = true)\n",
      " |-- lat: string (nullable = true)\n",
      " |-- lng: string (nullable = true)\n",
      " |-- velocidad: string (nullable = true)\n",
      " |-- pasajeros: string (nullable = true)\n",
      " |-- vendor: string (nullable = true)\n",
      " |-- id: string (nullable = true)\n",
      " |-- geom_bus: string (nullable = true)\n",
      " |-- servicio: string (nullable = true)\n",
      " |-- nombre_par: string (nullable = true)\n",
      " |-- parder_geom: string (nullable = true)\n",
      " |-- parader: string (nullable = true)\n",
      " |-- stop_name: string (nullable = true)\n",
      " |-- parder_lat: string (nullable = true)\n",
      " |-- parder_lon: string (nullable = true)\n",
      " |-- geom_bus: string (nullable = true)\n",
      "\n"
     ]
    }
   ],
   "source": [
    "# Observacion: Hay que cambiar la obtencion de parder_geom, puesto que debiese venir de la tabla paraderos2 pero el csv de stops.csv venía sin ese campo\n",
    "temp = paraderosrutas.join(buses, buses.vendor == paraderosrutas.cod_sinser).select(paraderosrutas.simt, \n",
    "    buses.bus, buses.fechahora, buses.lat, buses.lng, buses.velocidad, buses.pasajeros, buses.vendor, buses.id, buses.geom.alias(\"geom_bus\"),\n",
    "    paraderosrutas.servicio, paraderosrutas.nombre_par, paraderosrutas.geom.alias(\"parder_geom\"))\n",
    "\n",
    "print(paraderos2.columns)\n",
    "\n",
    "print(temp.columns)\n",
    "data = temp.join(paraderos2, paraderos2.stop_id == temp.simt, 'inner').select(temp.columns + [paraderos2.stop_id.alias('parader'), \n",
    "    paraderos2.stop_name, paraderos2.stop_lat.alias('parder_lat'), paraderos2.stop_lon.alias('parder_lon'), temp.geom_bus\n",
    "])\n",
    "#\n",
    "print(data.columns)\n",
    "#busesparaderos = data.withColumn(\"d\", wkb.loads(data.geom_bus, hex=True))\n",
    "data.show(5)\n",
    "data.printSchema()\n",
    "#fila = data.first()\n",
    "#print(fila)"
   ]
  },
  {
   "cell_type": "code",
   "execution_count": 5,
   "id": "e53783d8-1ba7-4de7-8647-c5c7b224dd71",
   "metadata": {},
   "outputs": [
    {
     "name": "stderr",
     "output_type": "stream",
     "text": [
      "WARNING:root:'PYARROW_IGNORE_TIMEZONE' environment variable was not set. It is required to set this environment variable to '1' in both driver and executor sides if you use pyarrow>=2.0.0. pandas-on-Spark will set it for you but it does not work if there is a Spark context already launched.\n"
     ]
    },
    {
     "name": "stdout",
     "output_type": "stream",
     "text": [
      "<class 'pyspark.sql.dataframe.DataFrame'>\n",
      "<class 'pyspark.pandas.frame.DataFrame'> <class 'pyspark.sql.dataframe.DataFrame'>\n"
     ]
    }
   ],
   "source": [
    "from pyspark.sql.types import StringType\n",
    "from pyspark.pandas import read_csv\n",
    "udf = F.udf\n",
    "@udf(returnType=StringType())\n",
    "def add_one(x):\n",
    "    if x is not None:\n",
    "        return x + \" another string\"\n",
    "\n",
    "#busesparaderos = data.withColumn(\"d\", wkb.loads(data.geom_bus, hex=True))\n",
    "#geo_df = GeoDataFrame.from_file(\"./data/paraderos2.csv\")\n",
    "#paraderos2 = spark.read.option(\"header\",True).csv(\"./data/paraderos2.csv\")\n",
    "#paraderosrutas = spark.read.option(\"header\",True).csv(\"./data/paraderosrutas.csv\")\n",
    "print(type(data))\n",
    "#datos = data.groupBy().agg(add_one(F.col(\"velocidad\"))).collect()\n",
    "\n",
    "\n",
    "#data.show()\n",
    "datos = data.to_pandas_on_spark()\n",
    "#datos = read_csv(\"./data/paraderos2.csv\")\n",
    "print(type(datos), type(data))"
   ]
  },
  {
   "cell_type": "code",
   "execution_count": 16,
   "id": "783875c6-975c-4e1a-988a-bc76760853f1",
   "metadata": {},
   "outputs": [
    {
     "name": "stdout",
     "output_type": "stream",
     "text": [
      "Index(['simt', 'bus', 'fechahora', 'lat', 'lng', 'velocidad', 'pasajeros',\n",
      "       'vendor', 'id', 'geom_bus', 'servicio', 'nombre_par', 'parder_geom',\n",
      "       'parader', 'stop_name', 'parder_lat', 'parder_lon', 'geom_bus'],\n",
      "      dtype='object')\n",
      "[('simt', 'string'), ('bus', 'string'), ('fechahora', 'string'), ('lat', 'string'), ('lng', 'string'), ('velocidad', 'string'), ('pasajeros', 'string'), ('vendor', 'string'), ('id', 'string'), ('geom_bus', 'string'), ('servicio', 'string'), ('nombre_par', 'string'), ('parder_geom', 'string'), ('parader', 'string'), ('stop_name', 'string'), ('parder_lat', 'string'), ('parder_lon', 'string'), ('geom_bus', 'string')]\n",
      "[('simt', <class 'int'>), ('bus', <class 'int'>), ('fechahora', <class 'int'>), ('lat', <class 'int'>), ('lng', <class 'int'>), ('velocidad', <class 'int'>), ('pasajeros', <class 'int'>), ('vendor', <class 'int'>), ('id', <class 'int'>), ('geom_bus', <class 'int'>), ('servicio', <class 'int'>), ('nombre_par', <class 'int'>), ('parder_geom', <class 'int'>), ('parader', <class 'int'>), ('stop_name', <class 'int'>), ('parder_lat', <class 'int'>), ('parder_lon', <class 'int'>), ('geom_bus', <class 'int'>)]\n",
      "<class 'pyspark.pandas.window.Rolling'>\n",
      "root\n",
      " |-- simt: string (nullable = true)\n",
      " |-- bus: string (nullable = true)\n",
      " |-- fechahora: string (nullable = true)\n",
      " |-- lat: string (nullable = true)\n",
      " |-- lng: string (nullable = true)\n",
      " |-- velocidad: string (nullable = true)\n",
      " |-- pasajeros: string (nullable = true)\n",
      " |-- vendor: string (nullable = true)\n",
      " |-- id: string (nullable = true)\n",
      " |-- geom_bus: string (nullable = true)\n",
      " |-- servicio: string (nullable = true)\n",
      " |-- nombre_par: string (nullable = true)\n",
      " |-- parder_geom: string (nullable = true)\n",
      " |-- parader: string (nullable = true)\n",
      " |-- stop_name: string (nullable = true)\n",
      " |-- parder_lat: string (nullable = true)\n",
      " |-- parder_lon: string (nullable = true)\n",
      " |-- geom_bus: string (nullable = true)\n",
      " |-- d: double (nullable = true)\n",
      "\n"
     ]
    },
    {
     "name": "stderr",
     "output_type": "stream",
     "text": [
      "                                                                                \r"
     ]
    },
    {
     "data": {
      "text/plain": [
       "Row(simt='PE329', bus='BJFW-53', fechahora='2018-06-13 00:00:10+00', lat='-33.5598373413086', lng='-70.5652313232422', velocidad='0', pasajeros='0', vendor='T352', id='10006092', geom_bus='0101000020E6100000010000C02CA451C0010000C0A8C740C0', servicio='E02I', nombre_par='Parada 3 / (M) Trinidad', parder_geom='0101000020E61000001FB50FE9BB841541E84D13C890FB5741', parader='PE329', stop_name='PE329-Parada 3 / (M) Trinidad', parder_lat='-33.5472232837671', parder_lon='-70.5881270000095', geom_bus='0101000020E6100000010000C02CA451C0010000C0A8C740C0', d=None)"
      ]
     },
     "execution_count": 16,
     "metadata": {},
     "output_type": "execute_result"
    }
   ],
   "source": [
    "import pyspark.pandas as ps\n",
    "print(datos.columns)\n",
    "tipos = data.dtypes\n",
    "\n",
    "print(tipos)\n",
    "insert_tipos = [(item, int) for item,_ in tipos]\n",
    "print(insert_tipos)\n",
    "\n",
    "#datos.groupBy().apply()\n",
    "#datos.loc[\"geom_bus\"]\n",
    "\n",
    "#columnas = datos.get('bus')\n",
    "# ('simt', str), ('bus', str), ('fechahora', str), ('lat', str), ('lng', str), ('velocidad', str), ('pasajeros', str), ('vendor', str), ('id', str), ('geom_bus', str), ('servicio', str), ('nombre_par', str), ('parder_geom', str), ('parader', str), ('stop_name', str), ('parder_lat', str), ('parder_lon', str), ('geom_bus', str)\n",
    "def count(item: ps.DataFrame) -> ps.DataFrame:\n",
    "    # this assumes the data is already partitioned\n",
    "    id = df.iloc[0][\"id\"]\n",
    "    count = df.shape[0]\n",
    "    return pd.DataFrame({\"id\": [id], \"count\": [count]})\n",
    "\n",
    "lotes = datos.rolling(100000)\n",
    "print(type(lotes))\n",
    "\n",
    "busesparaderos = data.withColumn(\"d\", data.id + \" Hola\")\n",
    "busesparaderos.printSchema()\n",
    "busesparaderos.head()\n",
    "#busesparaderos = datos.apply(count , axis=1)\n",
    "\n"
   ]
  },
  {
   "cell_type": "code",
   "execution_count": null,
   "id": "4b970cde-41ba-453b-a021-19cca1c4aaca",
   "metadata": {},
   "outputs": [],
   "source": [
    "#geo_df.head()"
   ]
  },
  {
   "cell_type": "code",
   "execution_count": null,
   "id": "b26c919a",
   "metadata": {},
   "outputs": [],
   "source": [
    "#print(buses.schema.jsonValue())\n",
    "#minimos = busesparaderos.groupBy('fechahora').agg(F.min(busesparaderos.d).alias(\"md\")).select(busesparaderos.distance, busesparaderos.fechahora.alias(\"fh\"))\n",
    "#resultados = busesparaderos.join(minimos, busesparaderos.d == minimos.md & busesparaderos.fechahora == minimos.fh, 'inner')"
   ]
  },
  {
   "cell_type": "code",
   "execution_count": null,
   "id": "b64b4596",
   "metadata": {},
   "outputs": [],
   "source": [
    "def get_Bus_Cant_Prom_Por_Paredero():#Frecuenica\n",
    "    Hour_list_from = ['2018-06-13 00:00:00+00','2018-06-13 01:00:00+00','2018-06-13 02:00:00+00','2018-06-13 03:00:00+00','2018-06-13 04:00:00+00','2018-06-13 05:00:00+00','2018-06-13 06:00:00+00','2018-06-13 07:00:00+00','2018-06-13 08:00:00+00','2018-06-13 09:00:00+00','2018-06-13 10:00:00+00','2018-06-13 11:00:00+00','2018-06-13 12:00:00+00','2018-06-13 13:00:00+00','2018-06-13 14:00:00+00','2018-06-13 15:00:00+00','2018-06-13 16:00:00+00','2018-06-13 18:00:00+00','2018-06-13 19:00:00+00','2018-06-13 20:00:00+00','2018-06-13 21:00:00+00','2018-06-13 22:00:00+00','2018-06-13 23:00:00+00']\n",
    "\n",
    "    Hour_list_to = ['2018-06-13 00:59:59+00','2018-06-13 01:59:59+00','2018-06-13 02:59:59+00','2018-06-13 03:59:59+00','2018-06-13 04:59:59+00','2018-06-13 05:59:59+00','2018-06-13 06:59:59+00','2018-06-13 07:59:59+00','2018-06-13 08:59:59+00','2018-06-13 09:59:59+00','2018-06-13 10:59:59+00','2018-06-13 11:59:59+00','2018-06-13 12:59:59+00','2018-06-13 13:59:59+00','2018-06-13 14:59:59+00','2018-06-13 15:59:59+00','2018-06-13 16:59:59+00','2018-06-13 18:59:59+00','2018-06-13 19:59:59+00','2018-06-13 20:59:59+00','2018-06-13 21:59:59+00','2018-06-13 22:59:59+00','2018-06-13 23:59:59+00']\n",
    "    #*************************\n",
    "    #print(type(result.index))\n",
    "    #print(result.index.names)\n",
    "    #print(result.index.values)\n",
    "    #print(result.index.levels)\n",
    "\n",
    "    dataframe_ruta = pd.read_csv(\"./E04I.csv\")\n",
    "    temp2 = dataframe_ruta.groupby(['parader'], group_keys=True, as_index=True).apply(lambda x: x)\n",
    "    #temp4 = dataframe_ruta.groupby(['parder_geom'], group_keys=True, as_index=True).apply(lambda x: x)\n",
    "    list_paredors = temp2.index.levels[0]\n",
    "    #temp3 = temp2.loc['PA146']\n",
    "    #a = temp2.loc['PA146']['fechahora'].tolist()[0]\n",
    "\n",
    "    dataframe_buses = {'paradero':[],'promedio_bus_hora':[],'geo_parader':[],'geo_parader_lat':[],'geo_parader_lon':[],'calificacion':[]}\n",
    "    #print(len(Hour_list_from))\n",
    "    #print(len(Hour_list_to))\n",
    "\n",
    "    for i in list_paredors: \n",
    "        x = temp2.loc[i]\n",
    "        List_total_buses = list()\n",
    "        geo = x['parder_geom'].iat[0]\n",
    "        geo_lat = x['parder_lat'].iat[0]\n",
    "        geo_lon = x['parder_lon'].iat[0]\n",
    "        paradero_list = list()\n",
    "        #print(geo)\n",
    "        for j in range(23):\n",
    "            #print(j)\n",
    "            df = x[(x['fechahora'] >= Hour_list_from[j]) & (x['fechahora'] <= Hour_list_to[j])]\n",
    "            List_total_buses.append(df['bus'].nunique())\n",
    "            #Lista_interval.append(Hour_list_from[j]+' to '+Hour_list_to[j])\n",
    "        mean = (sum(List_total_buses) / len(List_total_buses))\n",
    "        dataframe_buses['paradero'].append(i)\n",
    "        dataframe_buses['promedio_bus_hora'].append(mean)\n",
    "        dataframe_buses['geo_parader'].append(geo)\n",
    "        dataframe_buses['geo_parader_lat'].append(geo_lat)\n",
    "        dataframe_buses['geo_parader_lon'].append(geo_lon)\n",
    "        if mean < 5:\n",
    "            dataframe_buses['calificacion'].append(0)\n",
    "        elif mean > 6:\n",
    "            dataframe_buses['calificacion'].append(1)\n",
    "        else:\n",
    "            dataframe_buses['calificacion'].append(2)\n",
    "\n",
    "\n",
    "        \n",
    "        #dataframe_buses['rango_hora'] += Lista_interval\n",
    "\n",
    "\n",
    "    #dataframe_total_busparadero = pd.DataFrame(dataframe_buses)\n",
    "    #print(dataframe_total_busparadero)\n",
    "    #dataframe_total_busparadero.to_csv('E04I_NOTED.csv')"
   ]
  }
 ],
 "metadata": {
  "kernelspec": {
   "display_name": "Python 3 (ipykernel)",
   "language": "python",
   "name": "python3"
  },
  "language_info": {
   "codemirror_mode": {
    "name": "ipython",
    "version": 3
   },
   "file_extension": ".py",
   "mimetype": "text/x-python",
   "name": "python",
   "nbconvert_exporter": "python",
   "pygments_lexer": "ipython3",
   "version": "3.9.2"
  }
 },
 "nbformat": 4,
 "nbformat_minor": 5
}
