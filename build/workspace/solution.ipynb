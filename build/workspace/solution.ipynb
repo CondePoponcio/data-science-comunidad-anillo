{
 "cells": [
  {
   "cell_type": "code",
   "execution_count": 1,
   "id": "82ea0484",
   "metadata": {},
   "outputs": [
    {
     "name": "stdout",
     "output_type": "stream",
     "text": [
      "Hello World\n"
     ]
    }
   ],
   "source": [
    "print(\"Hello World\")"
   ]
  },
  {
   "cell_type": "code",
   "execution_count": 7,
   "id": "01ba55ac",
   "metadata": {},
   "outputs": [
    {
     "name": "stderr",
     "output_type": "stream",
     "text": [
      "[Stage 4:>                                                          (0 + 1) / 1]\r"
     ]
    },
    {
     "name": "stdout",
     "output_type": "stream",
     "text": [
      "Hola\n"
     ]
    },
    {
     "name": "stderr",
     "output_type": "stream",
     "text": [
      "                                                                                \r"
     ]
    }
   ],
   "source": [
    "from pyspark.sql import SparkSession\n",
    "from pyspark.sql import functions as F\n",
    "\n",
    "spark = SparkSession.builder.appName(\"pyspark-notebook\").master(\"spark://spark-master:7077\").config(\"spark.executor.memory\", \"512m\").getOrCreate()\n",
    "\n",
    "#dataframe = spark.read.format(\"jdbc\").options(url=\"jdbc:postgresql://db:5432/datascience?user=postgres&password=mantequilla\", dbtable=\"rutas\",driver=\"org.postgresql.Driver\").load()\n",
    "buses = spark.read.option(\"header\",True).csv(\"./data/buses.csv\")\n",
    "print(\"Hola\")"
   ]
  },
  {
   "cell_type": "code",
   "execution_count": 9,
   "id": "2746a35f-3ef3-4602-a788-33076da5bda6",
   "metadata": {},
   "outputs": [],
   "source": [
    "paraderos2 = spark.read.option(\"header\",True).csv(\"./data/paraderos2.csv\")\n",
    "paraderosrutas = spark.read.option(\"header\",True).csv(\"./data/paraderosrutas.csv\")"
   ]
  },
  {
   "cell_type": "code",
   "execution_count": 28,
   "id": "3423129a-8d21-4f26-bdb4-46dc753f6676",
   "metadata": {},
   "outputs": [
    {
     "name": "stdout",
     "output_type": "stream",
     "text": [
      "['stop_id', 'stop_code', 'stop_name', 'stop_lat', 'stop_lon', 'stop_url']\n",
      "['simt', 'bus', 'fechahora', 'lat', 'lng', 'velocidad', 'pasajeros', 'geom', 'vendor', 'id', 'servicio', 'nombre_par', 'parder_geom', 'parader', 'stop_name', 'parder_lat', 'parder_lon']\n",
      "['simt', 'bus', 'fechahora', 'lat', 'lng', 'velocidad', 'pasajeros', 'geom', 'vendor', 'id', 'servicio', 'nombre_par', 'parder_geom']\n"
     ]
    }
   ],
   "source": [
    "# Observacion: Hay que cambiar la obtencion de parder_geom, puesto que debiese venir de la tabla paraderos2 pero el csv de stops.csv venía sin ese campo\n",
    "temp = paraderosrutas.join(buses, buses.vendor == paraderosrutas.cod_sinser).select(paraderosrutas.simt, \n",
    "    buses.bus, buses.fechahora, buses.lat, buses.lng, buses.velocidad, buses.pasajeros, buses.geom, buses.vendor, buses.id,\n",
    "    paraderosrutas.servicio, paraderosrutas.nombre_par, paraderosrutas.geom.alias(\"parder_geom\"))\n",
    "\n",
    "print(paraderos2.columns)\n",
    "busesparaderos = temp.join(paraderos2, paraderos2.stop_id == temp.simt, 'inner').select(temp.columns + [paraderos2.stop_id.alias('parader'), \n",
    "    paraderos2.stop_name, paraderos2.stop_lat.alias('parder_lat'), paraderos2.stop_lon.alias('parder_lon')\n",
    "])\n",
    "print(busesparaderos.columns)\n",
    "print(temp.columns)"
   ]
  },
  {
   "cell_type": "code",
   "execution_count": 34,
   "id": "b26c919a",
   "metadata": {},
   "outputs": [
    {
     "name": "stdout",
     "output_type": "stream",
     "text": [
      "StructType(List(StructField(bus,StringType,true),StructField(fechahora,StringType,true),StructField(lat,StringType,true),StructField(lng,StringType,true),StructField(velocidad,StringType,true),StructField(pasajeros,StringType,true),StructField(geom,StringType,true),StructField(vendor,StringType,true),StructField(id,StringType,true)))\n"
     ]
    }
   ],
   "source": [
    "print(buses.schema)\n",
    "#minimos = busesparaderos.groupBy('fechahora').agg(F.min(busesparaderos.d).alias(\"md\")).select(busesparaderos.distance, busesparaderos.fechahora.alias(\"fh\"))\n",
    "#busesparaderos = dataframe.join(minimos, dataframe.d == minimos.md & dataframe.fechahora == minimos.fh, 'inner')"
   ]
  },
  {
   "cell_type": "code",
   "execution_count": null,
   "id": "b64b4596",
   "metadata": {},
   "outputs": [],
   "source": [
    "def get_Bus_Cant_Prom_Por_Paredero():#Frecuenica\n",
    "    Hour_list_from = ['2018-06-13 00:00:00+00','2018-06-13 01:00:00+00','2018-06-13 02:00:00+00','2018-06-13 03:00:00+00','2018-06-13 04:00:00+00','2018-06-13 05:00:00+00','2018-06-13 06:00:00+00','2018-06-13 07:00:00+00','2018-06-13 08:00:00+00','2018-06-13 09:00:00+00','2018-06-13 10:00:00+00','2018-06-13 11:00:00+00','2018-06-13 12:00:00+00','2018-06-13 13:00:00+00','2018-06-13 14:00:00+00','2018-06-13 15:00:00+00','2018-06-13 16:00:00+00','2018-06-13 18:00:00+00','2018-06-13 19:00:00+00','2018-06-13 20:00:00+00','2018-06-13 21:00:00+00','2018-06-13 22:00:00+00','2018-06-13 23:00:00+00']\n",
    "\n",
    "    Hour_list_to = ['2018-06-13 00:59:59+00','2018-06-13 01:59:59+00','2018-06-13 02:59:59+00','2018-06-13 03:59:59+00','2018-06-13 04:59:59+00','2018-06-13 05:59:59+00','2018-06-13 06:59:59+00','2018-06-13 07:59:59+00','2018-06-13 08:59:59+00','2018-06-13 09:59:59+00','2018-06-13 10:59:59+00','2018-06-13 11:59:59+00','2018-06-13 12:59:59+00','2018-06-13 13:59:59+00','2018-06-13 14:59:59+00','2018-06-13 15:59:59+00','2018-06-13 16:59:59+00','2018-06-13 18:59:59+00','2018-06-13 19:59:59+00','2018-06-13 20:59:59+00','2018-06-13 21:59:59+00','2018-06-13 22:59:59+00','2018-06-13 23:59:59+00']\n",
    "    #*************************\n",
    "    #print(type(result.index))\n",
    "    #print(result.index.names)\n",
    "    #print(result.index.values)\n",
    "    #print(result.index.levels)\n",
    "\n",
    "    dataframe_ruta = pd.read_csv(\"./E04I.csv\")\n",
    "    temp2 = dataframe_ruta.groupby(['parader'], group_keys=True, as_index=True).apply(lambda x: x)\n",
    "    #temp4 = dataframe_ruta.groupby(['parder_geom'], group_keys=True, as_index=True).apply(lambda x: x)\n",
    "    list_paredors = temp2.index.levels[0]\n",
    "    #temp3 = temp2.loc['PA146']\n",
    "    #a = temp2.loc['PA146']['fechahora'].tolist()[0]\n",
    "\n",
    "    dataframe_buses = {'paradero':[],'promedio_bus_hora':[],'geo_parader':[],'geo_parader_lat':[],'geo_parader_lon':[],'calificacion':[]}\n",
    "    #print(len(Hour_list_from))\n",
    "    #print(len(Hour_list_to))\n",
    "\n",
    "    for i in list_paredors: \n",
    "        x = temp2.loc[i]\n",
    "        List_total_buses = list()\n",
    "        geo = x['parder_geom'].iat[0]\n",
    "        geo_lat = x['parder_lat'].iat[0]\n",
    "        geo_lon = x['parder_lon'].iat[0]\n",
    "        paradero_list = list()\n",
    "        #print(geo)\n",
    "        for j in range(23):\n",
    "            #print(j)\n",
    "            df = x[(x['fechahora'] >= Hour_list_from[j]) & (x['fechahora'] <= Hour_list_to[j])]\n",
    "            List_total_buses.append(df['bus'].nunique())\n",
    "            #Lista_interval.append(Hour_list_from[j]+' to '+Hour_list_to[j])\n",
    "        mean = (sum(List_total_buses) / len(List_total_buses))\n",
    "        dataframe_buses['paradero'].append(i)\n",
    "        dataframe_buses['promedio_bus_hora'].append(mean)\n",
    "        dataframe_buses['geo_parader'].append(geo)\n",
    "        dataframe_buses['geo_parader_lat'].append(geo_lat)\n",
    "        dataframe_buses['geo_parader_lon'].append(geo_lon)\n",
    "        if mean < 5:\n",
    "            dataframe_buses['calificacion'].append(0)\n",
    "        elif mean > 6:\n",
    "            dataframe_buses['calificacion'].append(1)\n",
    "        else:\n",
    "            dataframe_buses['calificacion'].append(2)\n",
    "\n",
    "\n",
    "        \n",
    "        #dataframe_buses['rango_hora'] += Lista_interval\n",
    "\n",
    "\n",
    "    dataframe_total_busparadero = pd.DataFrame(dataframe_buses)\n",
    "    print(dataframe_total_busparadero)\n",
    "    dataframe_total_busparadero.to_csv('E04I_NOTED.csv')"
   ]
  }
 ],
 "metadata": {
  "kernelspec": {
   "display_name": "Python 3 (ipykernel)",
   "language": "python",
   "name": "python3"
  },
  "language_info": {
   "codemirror_mode": {
    "name": "ipython",
    "version": 3
   },
   "file_extension": ".py",
   "mimetype": "text/x-python",
   "name": "python",
   "nbconvert_exporter": "python",
   "pygments_lexer": "ipython3",
   "version": "3.9.2"
  }
 },
 "nbformat": 4,
 "nbformat_minor": 5
}
